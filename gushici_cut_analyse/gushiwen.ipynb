{
 "cells": [
  {
   "cell_type": "markdown",
   "metadata": {},
   "source": [
    "作者\n",
    "\n",
    "朝代\n",
    "\n",
    "类型\n",
    "\n",
    "```python\n",
    "p = Bar(df, label='yr', values='mpg', agg='median', group='origin',\n",
    "        title=\"Median MPG by YR, grouped by ORIGIN\", legend='top_right')\n",
    "```"
   ]
  }
 ],
 "metadata": {
  "kernelspec": {
   "display_name": "Python 3",
   "language": "python",
   "name": "python3"
  },
  "language_info": {
   "codemirror_mode": {
    "name": "ipython",
    "version": 3
   },
   "file_extension": ".py",
   "mimetype": "text/x-python",
   "name": "python",
   "nbconvert_exporter": "python",
   "pygments_lexer": "ipython3",
   "version": "3.6.0"
  }
 },
 "nbformat": 4,
 "nbformat_minor": 2
}
